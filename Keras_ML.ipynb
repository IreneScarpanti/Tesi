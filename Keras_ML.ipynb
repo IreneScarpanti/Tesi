{
  "nbformat": 4,
  "nbformat_minor": 0,
  "metadata": {
    "colab": {
      "provenance": [],
      "gpuType": "T4",
      "include_colab_link": true
    },
    "kernelspec": {
      "name": "python3",
      "display_name": "Python 3"
    },
    "language_info": {
      "name": "python"
    },
    "accelerator": "GPU"
  },
  "cells": [
    {
      "cell_type": "markdown",
      "metadata": {
        "id": "view-in-github",
        "colab_type": "text"
      },
      "source": [
        "<a href=\"https://colab.research.google.com/github/IreneScarpanti/Tesi/blob/main/Keras_ML.ipynb\" target=\"_parent\"><img src=\"https://colab.research.google.com/assets/colab-badge.svg\" alt=\"Open In Colab\"/></a>"
      ]
    },
    {
      "cell_type": "code",
      "execution_count": 283,
      "metadata": {
        "colab": {
          "base_uri": "https://localhost:8080/"
        },
        "id": "4ZIx2aXuphog",
        "outputId": "1ac9ca88-9cec-4e84-9d36-496c8eb3b8d3"
      },
      "outputs": [
        {
          "output_type": "stream",
          "name": "stdout",
          "text": [
            "TensorFlow version: 2.17.0\n"
          ]
        }
      ],
      "source": [
        "import tensorflow as tf\n",
        "import matplotlib.pyplot as plt\n",
        "import numpy as np\n",
        "from sklearn.model_selection import train_test_split\n",
        "print(\"TensorFlow version:\", tf.__version__)"
      ]
    },
    {
      "cell_type": "code",
      "source": [
        "mnist = tf.keras.datasets.mnist\n",
        "# Carica l'intero dataset MNIST\n",
        "(x, y), (x_test, y_test) = mnist.load_data()\n",
        "\n",
        "# Combina i set di train e test in un unico dataset\n",
        "x = np.concatenate((x, x_test))\n",
        "y = np.concatenate((y, y_test))\n",
        "\n",
        "x = x/255.0\n",
        "# Suddividi i dati\n",
        "x_train, x_validation, y_train, y_validation = train_test_split(x, y, train_size=0.84286, random_state=42)\n",
        "x_train, x_test, y_train, y_test = train_test_split(x_train, y_train, train_size=0.11866, random_state=42)\n",
        "# Verifica le dimensioni dei nuovi set\n",
        "print(f'Training set size: {x_train.shape[0]}')\n",
        "print(f'Validation set size: {x_validation.shape[0]}')\n",
        "print(f'Test set size: {x_test.shape[0]}')\n",
        "\n"
      ],
      "metadata": {
        "id": "VSeza8i8qCFa",
        "outputId": "5f77a0fa-260e-4227-a704-9c6cf34da4f5",
        "colab": {
          "base_uri": "https://localhost:8080/"
        }
      },
      "execution_count": 284,
      "outputs": [
        {
          "output_type": "stream",
          "name": "stdout",
          "text": [
            "Training set size: 7000\n",
            "Validation set size: 11000\n",
            "Test set size: 52000\n"
          ]
        }
      ]
    },
    {
      "cell_type": "code",
      "source": [
        "model = tf.keras.models.Sequential([\n",
        "  tf.keras.layers.Flatten(input_shape=(28, 28)),\n",
        "  tf.keras.layers.Dense(128, activation='relu'),\n",
        "  tf.keras.layers.Dropout(0.2),\n",
        "  tf.keras.layers.Dense(64, activation='relu'),\n",
        "  tf.keras.layers.Dropout(0.2),\n",
        "  tf.keras.layers.Dense(32, activation='relu'),\n",
        "  tf.keras.layers.Dropout(0.2),\n",
        "  tf.keras.layers.Dense(10, activation=\"softmax\")\n",
        "])"
      ],
      "metadata": {
        "id": "BXt1wAWlqvEy"
      },
      "execution_count": 285,
      "outputs": []
    },
    {
      "cell_type": "code",
      "source": [
        "predictions = model(x_train[:1]).numpy()\n",
        "predictions"
      ],
      "metadata": {
        "colab": {
          "base_uri": "https://localhost:8080/"
        },
        "id": "CcitjfGDqwBt",
        "outputId": "f0004e2a-4b17-4589-f816-55b7db27dd31"
      },
      "execution_count": 286,
      "outputs": [
        {
          "output_type": "execute_result",
          "data": {
            "text/plain": [
              "array([[0.09511624, 0.13012747, 0.08503993, 0.10800049, 0.06145364,\n",
              "        0.08113519, 0.14366415, 0.11008219, 0.09072791, 0.09465275]],\n",
              "      dtype=float32)"
            ]
          },
          "metadata": {},
          "execution_count": 286
        }
      ]
    },
    {
      "cell_type": "code",
      "source": [
        "#tf.nn.softmax(predictions).numpy()"
      ],
      "metadata": {
        "id": "scwuRwp_qwPt"
      },
      "execution_count": 287,
      "outputs": []
    },
    {
      "cell_type": "code",
      "source": [
        "#loss_fn = tf.keras.losses.SparseCategoricalCrossentropy(from_logits=True)\n",
        "#loss_fn(y_train[:1], predictions).numpy()\n",
        "model.compile(loss=\"sparse_categorical_crossentropy\", optimizer=tf.keras.optimizers.Adam(), metrics = ['accuracy'])\n",
        "history = model.fit(x_train, y_train, epochs=10,\n",
        "                                          validation_data=(x_validation, y_validation))\n"
      ],
      "metadata": {
        "id": "w80XQFdGqwcV",
        "outputId": "ae5df386-7db8-45b0-fc6c-6a584096b8ea",
        "colab": {
          "base_uri": "https://localhost:8080/"
        }
      },
      "execution_count": 288,
      "outputs": [
        {
          "output_type": "stream",
          "name": "stdout",
          "text": [
            "Epoch 1/10\n",
            "\u001b[1m219/219\u001b[0m \u001b[32m━━━━━━━━━━━━━━━━━━━━\u001b[0m\u001b[37m\u001b[0m \u001b[1m3s\u001b[0m 7ms/step - accuracy: 0.4488 - loss: 1.6236 - val_accuracy: 0.8595 - val_loss: 0.4496\n",
            "Epoch 2/10\n",
            "\u001b[1m219/219\u001b[0m \u001b[32m━━━━━━━━━━━━━━━━━━━━\u001b[0m\u001b[37m\u001b[0m \u001b[1m2s\u001b[0m 5ms/step - accuracy: 0.8308 - loss: 0.5520 - val_accuracy: 0.9116 - val_loss: 0.2915\n",
            "Epoch 3/10\n",
            "\u001b[1m219/219\u001b[0m \u001b[32m━━━━━━━━━━━━━━━━━━━━\u001b[0m\u001b[37m\u001b[0m \u001b[1m1s\u001b[0m 6ms/step - accuracy: 0.8901 - loss: 0.3855 - val_accuracy: 0.9218 - val_loss: 0.2512\n",
            "Epoch 4/10\n",
            "\u001b[1m219/219\u001b[0m \u001b[32m━━━━━━━━━━━━━━━━━━━━\u001b[0m\u001b[37m\u001b[0m \u001b[1m1s\u001b[0m 5ms/step - accuracy: 0.9072 - loss: 0.3249 - val_accuracy: 0.9315 - val_loss: 0.2279\n",
            "Epoch 5/10\n",
            "\u001b[1m219/219\u001b[0m \u001b[32m━━━━━━━━━━━━━━━━━━━━\u001b[0m\u001b[37m\u001b[0m \u001b[1m1s\u001b[0m 5ms/step - accuracy: 0.9290 - loss: 0.2466 - val_accuracy: 0.9340 - val_loss: 0.2210\n",
            "Epoch 6/10\n",
            "\u001b[1m219/219\u001b[0m \u001b[32m━━━━━━━━━━━━━━━━━━━━\u001b[0m\u001b[37m\u001b[0m \u001b[1m3s\u001b[0m 11ms/step - accuracy: 0.9429 - loss: 0.1992 - val_accuracy: 0.9407 - val_loss: 0.2061\n",
            "Epoch 7/10\n",
            "\u001b[1m219/219\u001b[0m \u001b[32m━━━━━━━━━━━━━━━━━━━━\u001b[0m\u001b[37m\u001b[0m \u001b[1m1s\u001b[0m 6ms/step - accuracy: 0.9417 - loss: 0.1936 - val_accuracy: 0.9404 - val_loss: 0.2054\n",
            "Epoch 8/10\n",
            "\u001b[1m219/219\u001b[0m \u001b[32m━━━━━━━━━━━━━━━━━━━━\u001b[0m\u001b[37m\u001b[0m \u001b[1m1s\u001b[0m 5ms/step - accuracy: 0.9541 - loss: 0.1459 - val_accuracy: 0.9425 - val_loss: 0.2026\n",
            "Epoch 9/10\n",
            "\u001b[1m219/219\u001b[0m \u001b[32m━━━━━━━━━━━━━━━━━━━━\u001b[0m\u001b[37m\u001b[0m \u001b[1m1s\u001b[0m 6ms/step - accuracy: 0.9578 - loss: 0.1476 - val_accuracy: 0.9487 - val_loss: 0.1937\n",
            "Epoch 10/10\n",
            "\u001b[1m219/219\u001b[0m \u001b[32m━━━━━━━━━━━━━━━━━━━━\u001b[0m\u001b[37m\u001b[0m \u001b[1m3s\u001b[0m 6ms/step - accuracy: 0.9627 - loss: 0.1249 - val_accuracy: 0.9455 - val_loss: 0.2022\n"
          ]
        }
      ]
    },
    {
      "cell_type": "code",
      "source": [
        "plt.plot(history.history['loss'], label='Train Loss')\n",
        "plt.plot(history.history['val_loss'], label='Validation Loss')\n",
        "plt.title('Loss')\n",
        "plt.xlabel('Epochs')\n",
        "plt.ylabel('Loss')\n",
        "plt.legend()"
      ],
      "metadata": {
        "id": "cnGO8VScvuf_",
        "outputId": "b0cea966-d784-4b64-a958-a4326baf1da0",
        "colab": {
          "base_uri": "https://localhost:8080/",
          "height": 489
        }
      },
      "execution_count": 289,
      "outputs": [
        {
          "output_type": "execute_result",
          "data": {
            "text/plain": [
              "<matplotlib.legend.Legend at 0x7e944d47fdf0>"
            ]
          },
          "metadata": {},
          "execution_count": 289
        },
        {
          "output_type": "display_data",
          "data": {
            "text/plain": [
              "<Figure size 640x480 with 1 Axes>"
            ],
            "image/png": "[encoded data removed]"
          },
          "metadata": {}
        }
      ]
    },
    {
      "cell_type": "code",
      "source": [
        "model.evaluate(x_test,  y_test, verbose=2)"
      ],
      "metadata": {
        "colab": {
          "base_uri": "https://localhost:8080/"
        },
        "id": "5kNwmir0rAiI",
        "outputId": "067e2337-94fd-48b7-b9dc-1ae77fbd0c10"
      },
      "execution_count": 290,
      "outputs": [
        {
          "output_type": "stream",
          "name": "stdout",
          "text": [
            "1625/1625 - 2s - 1ms/step - accuracy: 0.9468 - loss: 0.2006\n"
          ]
        },
        {
          "output_type": "execute_result",
          "data": {
            "text/plain": [
              "[0.2005651891231537, 0.9468269348144531]"
            ]
          },
          "metadata": {},
          "execution_count": 290
        }
      ]
    },
    {
      "cell_type": "code",
      "source": [
        "probability_model = tf.keras.Sequential([\n",
        "  model,\n",
        "  tf.keras.layers.Softmax()\n",
        "])"
      ],
      "metadata": {
        "id": "Z0ve_nCzrAsC"
      },
      "execution_count": 291,
      "outputs": []
    },
    {
      "cell_type": "code",
      "source": [
        "probability_model(x_test[:5])"
      ],
      "metadata": {
        "colab": {
          "base_uri": "https://localhost:8080/"
        },
        "id": "OFhLWPLbrFIr",
        "outputId": "cf53e63f-7ff5-422b-a222-b1f386890ed3"
      },
      "execution_count": 292,
      "outputs": [
        {
          "output_type": "execute_result",
          "data": {
            "text/plain": [
              "<tf.Tensor: shape=(5, 10), dtype=float32, numpy=\n",
              "array([[0.08685811, 0.08675127, 0.08680452, 0.20814714, 0.08674447,\n",
              "        0.08685625, 0.08674517, 0.09415133, 0.08677072, 0.09017099],\n",
              "       [0.08557439, 0.08587191, 0.08570856, 0.08582434, 0.08563059,\n",
              "        0.08585942, 0.08571887, 0.08557536, 0.2284894 , 0.08574716],\n",
              "       [0.08533683, 0.08533678, 0.0853368 , 0.08533679, 0.08533685,\n",
              "        0.08533694, 0.2319686 , 0.08533679, 0.08533678, 0.08533678],\n",
              "       [0.08541327, 0.08541261, 0.08541489, 0.08543514, 0.08541261,\n",
              "        0.08541261, 0.0854126 , 0.23076448, 0.08541272, 0.08590911],\n",
              "       [0.23196931, 0.08533674, 0.08533674, 0.08533674, 0.08533674,\n",
              "        0.08533674, 0.08533674, 0.08533674, 0.08533674, 0.08533674]],\n",
              "      dtype=float32)>"
            ]
          },
          "metadata": {},
          "execution_count": 292
        }
      ]
    }
  ]
}